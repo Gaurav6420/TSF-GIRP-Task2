{
  "nbformat": 4,
  "nbformat_minor": 0,
  "metadata": {
    "colab": {
      "name": "TSF_task2.ipynb",
      "provenance": []
    },
    "kernelspec": {
      "name": "python3",
      "display_name": "Python 3"
    },
    "language_info": {
      "name": "python"
    }
  },
  "cells": [
    {
      "cell_type": "markdown",
      "metadata": {
        "id": "sjg8gZusRCKr"
      },
      "source": [
        "## **The Sparks Foundation, GRIP June 2021**\n",
        "\n",
        "\n",
        "\n"
      ]
    },
    {
      "cell_type": "markdown",
      "metadata": {
        "id": "jDVkNHVyalmh"
      },
      "source": [
        "**Data Science and Business Analytics Intern**"
      ]
    },
    {
      "cell_type": "markdown",
      "metadata": {
        "id": "ZL2W5KybRCGa"
      },
      "source": [
        "### **Task 2: Prediction using Unsupervised ML**\n",
        "*Predict the optimum number of clusters from the given iris datasetn and represent it visually*\n"
      ]
    },
    {
      "cell_type": "markdown",
      "metadata": {
        "id": "YcH71JJVagXL"
      },
      "source": [
        "**By - Gaurav Bavdane**"
      ]
    },
    {
      "cell_type": "markdown",
      "metadata": {
        "id": "2eZLzXnFRB-L"
      },
      "source": [
        "###**Importing Libraries**"
      ]
    },
    {
      "cell_type": "code",
      "metadata": {
        "id": "w_bsjXKqxRAF"
      },
      "source": [
        "import pandas as pd\n",
        "import numpy as np\n",
        "import matplotlib.pyplot as plt\n",
        "from sklearn import datasets"
      ],
      "execution_count": null,
      "outputs": []
    },
    {
      "cell_type": "markdown",
      "metadata": {
        "id": "zZLcYfNFSByq"
      },
      "source": [
        "###**Importing Dataset**"
      ]
    },
    {
      "cell_type": "code",
      "metadata": {
        "colab": {
          "base_uri": "https://localhost:8080/",
          "height": 357
        },
        "id": "y1K65HOxxiSi",
        "outputId": "1420df68-3bbf-4e2d-db66-12a10452fc11"
      },
      "source": [
        "irisdata = datasets.load_iris()\n",
        "data_df = pd.DataFrame(irisdata.data, columns=irisdata.feature_names)\n",
        "data_df.head(10)"
      ],
      "execution_count": null,
      "outputs": [
        {
          "output_type": "execute_result",
          "data": {
            "text/html": [
              "<div>\n",
              "<style scoped>\n",
              "    .dataframe tbody tr th:only-of-type {\n",
              "        vertical-align: middle;\n",
              "    }\n",
              "\n",
              "    .dataframe tbody tr th {\n",
              "        vertical-align: top;\n",
              "    }\n",
              "\n",
              "    .dataframe thead th {\n",
              "        text-align: right;\n",
              "    }\n",
              "</style>\n",
              "<table border=\"1\" class=\"dataframe\">\n",
              "  <thead>\n",
              "    <tr style=\"text-align: right;\">\n",
              "      <th></th>\n",
              "      <th>sepal length (cm)</th>\n",
              "      <th>sepal width (cm)</th>\n",
              "      <th>petal length (cm)</th>\n",
              "      <th>petal width (cm)</th>\n",
              "    </tr>\n",
              "  </thead>\n",
              "  <tbody>\n",
              "    <tr>\n",
              "      <th>0</th>\n",
              "      <td>5.1</td>\n",
              "      <td>3.5</td>\n",
              "      <td>1.4</td>\n",
              "      <td>0.2</td>\n",
              "    </tr>\n",
              "    <tr>\n",
              "      <th>1</th>\n",
              "      <td>4.9</td>\n",
              "      <td>3.0</td>\n",
              "      <td>1.4</td>\n",
              "      <td>0.2</td>\n",
              "    </tr>\n",
              "    <tr>\n",
              "      <th>2</th>\n",
              "      <td>4.7</td>\n",
              "      <td>3.2</td>\n",
              "      <td>1.3</td>\n",
              "      <td>0.2</td>\n",
              "    </tr>\n",
              "    <tr>\n",
              "      <th>3</th>\n",
              "      <td>4.6</td>\n",
              "      <td>3.1</td>\n",
              "      <td>1.5</td>\n",
              "      <td>0.2</td>\n",
              "    </tr>\n",
              "    <tr>\n",
              "      <th>4</th>\n",
              "      <td>5.0</td>\n",
              "      <td>3.6</td>\n",
              "      <td>1.4</td>\n",
              "      <td>0.2</td>\n",
              "    </tr>\n",
              "    <tr>\n",
              "      <th>5</th>\n",
              "      <td>5.4</td>\n",
              "      <td>3.9</td>\n",
              "      <td>1.7</td>\n",
              "      <td>0.4</td>\n",
              "    </tr>\n",
              "    <tr>\n",
              "      <th>6</th>\n",
              "      <td>4.6</td>\n",
              "      <td>3.4</td>\n",
              "      <td>1.4</td>\n",
              "      <td>0.3</td>\n",
              "    </tr>\n",
              "    <tr>\n",
              "      <th>7</th>\n",
              "      <td>5.0</td>\n",
              "      <td>3.4</td>\n",
              "      <td>1.5</td>\n",
              "      <td>0.2</td>\n",
              "    </tr>\n",
              "    <tr>\n",
              "      <th>8</th>\n",
              "      <td>4.4</td>\n",
              "      <td>2.9</td>\n",
              "      <td>1.4</td>\n",
              "      <td>0.2</td>\n",
              "    </tr>\n",
              "    <tr>\n",
              "      <th>9</th>\n",
              "      <td>4.9</td>\n",
              "      <td>3.1</td>\n",
              "      <td>1.5</td>\n",
              "      <td>0.1</td>\n",
              "    </tr>\n",
              "  </tbody>\n",
              "</table>\n",
              "</div>"
            ],
            "text/plain": [
              "   sepal length (cm)  sepal width (cm)  petal length (cm)  petal width (cm)\n",
              "0                5.1               3.5                1.4               0.2\n",
              "1                4.9               3.0                1.4               0.2\n",
              "2                4.7               3.2                1.3               0.2\n",
              "3                4.6               3.1                1.5               0.2\n",
              "4                5.0               3.6                1.4               0.2\n",
              "5                5.4               3.9                1.7               0.4\n",
              "6                4.6               3.4                1.4               0.3\n",
              "7                5.0               3.4                1.5               0.2\n",
              "8                4.4               2.9                1.4               0.2\n",
              "9                4.9               3.1                1.5               0.1"
            ]
          },
          "metadata": {
            "tags": []
          },
          "execution_count": 2
        }
      ]
    },
    {
      "cell_type": "markdown",
      "metadata": {
        "id": "f4USs9g7SM2i"
      },
      "source": [
        "###**As this is an unsupervised learning problem there is no Y, we extract only X**"
      ]
    },
    {
      "cell_type": "code",
      "metadata": {
        "id": "9vKLt26Mybpt"
      },
      "source": [
        "X = data_df.iloc[:, :4].values"
      ],
      "execution_count": null,
      "outputs": []
    },
    {
      "cell_type": "markdown",
      "metadata": {
        "id": "HeO0ALbuSelj"
      },
      "source": [
        "###**To get the best k cluster value we apply Elbow method**"
      ]
    },
    {
      "cell_type": "code",
      "metadata": {
        "id": "rzzDTYUfy6gr"
      },
      "source": [
        "from sklearn.cluster import KMeans\n",
        "wcss = []\n",
        "\n",
        "for i in range (1, 11):\n",
        "  kmeans = KMeans(n_clusters = i, init = \"k-means++\",\n",
        "                  max_iter = 300, n_init = 10, random_state = 0)\n",
        "  kmeans.fit(X)\n",
        "  wcss.append(kmeans.inertia_)"
      ],
      "execution_count": null,
      "outputs": []
    },
    {
      "cell_type": "markdown",
      "metadata": {
        "id": "aEAgJPo0Sr4N"
      },
      "source": [
        "###**Plot the eblow method graph**"
      ]
    },
    {
      "cell_type": "code",
      "metadata": {
        "colab": {
          "base_uri": "https://localhost:8080/",
          "height": 295
        },
        "id": "4f2FVMGiztOS",
        "outputId": "a0463fdf-96a6-44b7-cda4-df2c3a15f493"
      },
      "source": [
        "plt.scatter(range(1, 11), wcss, c='red')\n",
        "plt.plot (range(1, 11), wcss, c='blue')\n",
        "plt.title('The elbow method')\n",
        "plt.xlabel('Number of clusters')\n",
        "plt.ylabel('WCSS')\n",
        "plt.show()"
      ],
      "execution_count": null,
      "outputs": [
        {
          "output_type": "display_data",
          "data": {
            "image/png": "[encoded data removed]",
            "text/plain": [
              "<Figure size 432x288 with 1 Axes>"
            ]
          },
          "metadata": {
            "tags": [],
            "needs_background": "light"
          }
        }
      ]
    },
    {
      "cell_type": "markdown",
      "metadata": {
        "id": "Lvac9Z0hS3Kg"
      },
      "source": [
        "**From the above graph we can observe that the number of cluters = 3 and any change in wcss value is very minimal or insignificant. Hence we choose number of clusters = 3 for the given problem.**"
      ]
    },
    {
      "cell_type": "markdown",
      "metadata": {
        "id": "cUpbMr9UTRb6"
      },
      "source": [
        "###**Creating k-mean classifier**"
      ]
    },
    {
      "cell_type": "code",
      "metadata": {
        "id": "d4sutMrb0SRZ",
        "colab": {
          "base_uri": "https://localhost:8080/"
        },
        "outputId": "bcbcb802-ebaa-4c30-e724-28d5be338914"
      },
      "source": [
        "kmeans = KMeans(n_clusters = 3, init = 'k-means++',\n",
        "                max_iter = 300, n_init = 10, random_state = 0)\n",
        "print(kmeans.fit(X))"
      ],
      "execution_count": null,
      "outputs": [
        {
          "output_type": "stream",
          "text": [
            "KMeans(algorithm='auto', copy_x=True, init='k-means++', max_iter=300,\n",
            "       n_clusters=3, n_init=10, n_jobs=None, precompute_distances='auto',\n",
            "       random_state=0, tol=0.0001, verbose=0)\n"
          ],
          "name": "stdout"
        }
      ]
    },
    {
      "cell_type": "markdown",
      "metadata": {
        "id": "V3krYjaHTaM4"
      },
      "source": [
        "###**Predicting output based on the model built**"
      ]
    },
    {
      "cell_type": "code",
      "metadata": {
        "colab": {
          "base_uri": "https://localhost:8080/"
        },
        "id": "QZjR3MrlKfEu",
        "outputId": "0d73e0c1-e1a0-4229-f24c-70712fd7aed1"
      },
      "source": [
        "y_pred = kmeans.predict(X)\n",
        "print(y_pred)"
      ],
      "execution_count": null,
      "outputs": [
        {
          "output_type": "stream",
          "text": [
            "[1 1 1 1 1 1 1 1 1 1 1 1 1 1 1 1 1 1 1 1 1 1 1 1 1 1 1 1 1 1 1 1 1 1 1 1 1\n",
            " 1 1 1 1 1 1 1 1 1 1 1 1 1 2 2 0 2 2 2 2 2 2 2 2 2 2 2 2 2 2 2 2 2 2 2 2 2\n",
            " 2 2 2 0 2 2 2 2 2 2 2 2 2 2 2 2 2 2 2 2 2 2 2 2 2 2 0 2 0 0 0 0 2 0 0 0 0\n",
            " 0 0 2 2 0 0 0 0 2 0 2 0 2 0 0 2 2 0 0 0 0 0 2 0 0 0 0 2 0 0 0 2 0 0 0 2 0\n",
            " 0 2]\n"
          ],
          "name": "stdout"
        }
      ]
    },
    {
      "cell_type": "markdown",
      "metadata": {
        "id": "-9RNpLRiQqyL"
      },
      "source": [
        "###**Reshaping the predicted output i.e(y_pred)**"
      ]
    },
    {
      "cell_type": "code",
      "metadata": {
        "colab": {
          "base_uri": "https://localhost:8080/"
        },
        "id": "V6ncVv3NQpqG",
        "outputId": "795f6bca-23b0-49ce-87c3-af89893d9f60"
      },
      "source": [
        "y_col=y_pred.reshape(len(y_pred),1)\n",
        "output=np.append(arr=X,values=y_col,axis=1)\n",
        "print(output)"
      ],
      "execution_count": null,
      "outputs": [
        {
          "output_type": "stream",
          "text": [
            "[[5.1 3.5 1.4 0.2 1. ]\n",
            " [4.9 3.  1.4 0.2 1. ]\n",
            " [4.7 3.2 1.3 0.2 1. ]\n",
            " [4.6 3.1 1.5 0.2 1. ]\n",
            " [5.  3.6 1.4 0.2 1. ]\n",
            " [5.4 3.9 1.7 0.4 1. ]\n",
            " [4.6 3.4 1.4 0.3 1. ]\n",
            " [5.  3.4 1.5 0.2 1. ]\n",
            " [4.4 2.9 1.4 0.2 1. ]\n",
            " [4.9 3.1 1.5 0.1 1. ]\n",
            " [5.4 3.7 1.5 0.2 1. ]\n",
            " [4.8 3.4 1.6 0.2 1. ]\n",
            " [4.8 3.  1.4 0.1 1. ]\n",
            " [4.3 3.  1.1 0.1 1. ]\n",
            " [5.8 4.  1.2 0.2 1. ]\n",
            " [5.7 4.4 1.5 0.4 1. ]\n",
            " [5.4 3.9 1.3 0.4 1. ]\n",
            " [5.1 3.5 1.4 0.3 1. ]\n",
            " [5.7 3.8 1.7 0.3 1. ]\n",
            " [5.1 3.8 1.5 0.3 1. ]\n",
            " [5.4 3.4 1.7 0.2 1. ]\n",
            " [5.1 3.7 1.5 0.4 1. ]\n",
            " [4.6 3.6 1.  0.2 1. ]\n",
            " [5.1 3.3 1.7 0.5 1. ]\n",
            " [4.8 3.4 1.9 0.2 1. ]\n",
            " [5.  3.  1.6 0.2 1. ]\n",
            " [5.  3.4 1.6 0.4 1. ]\n",
            " [5.2 3.5 1.5 0.2 1. ]\n",
            " [5.2 3.4 1.4 0.2 1. ]\n",
            " [4.7 3.2 1.6 0.2 1. ]\n",
            " [4.8 3.1 1.6 0.2 1. ]\n",
            " [5.4 3.4 1.5 0.4 1. ]\n",
            " [5.2 4.1 1.5 0.1 1. ]\n",
            " [5.5 4.2 1.4 0.2 1. ]\n",
            " [4.9 3.1 1.5 0.2 1. ]\n",
            " [5.  3.2 1.2 0.2 1. ]\n",
            " [5.5 3.5 1.3 0.2 1. ]\n",
            " [4.9 3.6 1.4 0.1 1. ]\n",
            " [4.4 3.  1.3 0.2 1. ]\n",
            " [5.1 3.4 1.5 0.2 1. ]\n",
            " [5.  3.5 1.3 0.3 1. ]\n",
            " [4.5 2.3 1.3 0.3 1. ]\n",
            " [4.4 3.2 1.3 0.2 1. ]\n",
            " [5.  3.5 1.6 0.6 1. ]\n",
            " [5.1 3.8 1.9 0.4 1. ]\n",
            " [4.8 3.  1.4 0.3 1. ]\n",
            " [5.1 3.8 1.6 0.2 1. ]\n",
            " [4.6 3.2 1.4 0.2 1. ]\n",
            " [5.3 3.7 1.5 0.2 1. ]\n",
            " [5.  3.3 1.4 0.2 1. ]\n",
            " [7.  3.2 4.7 1.4 2. ]\n",
            " [6.4 3.2 4.5 1.5 2. ]\n",
            " [6.9 3.1 4.9 1.5 0. ]\n",
            " [5.5 2.3 4.  1.3 2. ]\n",
            " [6.5 2.8 4.6 1.5 2. ]\n",
            " [5.7 2.8 4.5 1.3 2. ]\n",
            " [6.3 3.3 4.7 1.6 2. ]\n",
            " [4.9 2.4 3.3 1.  2. ]\n",
            " [6.6 2.9 4.6 1.3 2. ]\n",
            " [5.2 2.7 3.9 1.4 2. ]\n",
            " [5.  2.  3.5 1.  2. ]\n",
            " [5.9 3.  4.2 1.5 2. ]\n",
            " [6.  2.2 4.  1.  2. ]\n",
            " [6.1 2.9 4.7 1.4 2. ]\n",
            " [5.6 2.9 3.6 1.3 2. ]\n",
            " [6.7 3.1 4.4 1.4 2. ]\n",
            " [5.6 3.  4.5 1.5 2. ]\n",
            " [5.8 2.7 4.1 1.  2. ]\n",
            " [6.2 2.2 4.5 1.5 2. ]\n",
            " [5.6 2.5 3.9 1.1 2. ]\n",
            " [5.9 3.2 4.8 1.8 2. ]\n",
            " [6.1 2.8 4.  1.3 2. ]\n",
            " [6.3 2.5 4.9 1.5 2. ]\n",
            " [6.1 2.8 4.7 1.2 2. ]\n",
            " [6.4 2.9 4.3 1.3 2. ]\n",
            " [6.6 3.  4.4 1.4 2. ]\n",
            " [6.8 2.8 4.8 1.4 2. ]\n",
            " [6.7 3.  5.  1.7 0. ]\n",
            " [6.  2.9 4.5 1.5 2. ]\n",
            " [5.7 2.6 3.5 1.  2. ]\n",
            " [5.5 2.4 3.8 1.1 2. ]\n",
            " [5.5 2.4 3.7 1.  2. ]\n",
            " [5.8 2.7 3.9 1.2 2. ]\n",
            " [6.  2.7 5.1 1.6 2. ]\n",
            " [5.4 3.  4.5 1.5 2. ]\n",
            " [6.  3.4 4.5 1.6 2. ]\n",
            " [6.7 3.1 4.7 1.5 2. ]\n",
            " [6.3 2.3 4.4 1.3 2. ]\n",
            " [5.6 3.  4.1 1.3 2. ]\n",
            " [5.5 2.5 4.  1.3 2. ]\n",
            " [5.5 2.6 4.4 1.2 2. ]\n",
            " [6.1 3.  4.6 1.4 2. ]\n",
            " [5.8 2.6 4.  1.2 2. ]\n",
            " [5.  2.3 3.3 1.  2. ]\n",
            " [5.6 2.7 4.2 1.3 2. ]\n",
            " [5.7 3.  4.2 1.2 2. ]\n",
            " [5.7 2.9 4.2 1.3 2. ]\n",
            " [6.2 2.9 4.3 1.3 2. ]\n",
            " [5.1 2.5 3.  1.1 2. ]\n",
            " [5.7 2.8 4.1 1.3 2. ]\n",
            " [6.3 3.3 6.  2.5 0. ]\n",
            " [5.8 2.7 5.1 1.9 2. ]\n",
            " [7.1 3.  5.9 2.1 0. ]\n",
            " [6.3 2.9 5.6 1.8 0. ]\n",
            " [6.5 3.  5.8 2.2 0. ]\n",
            " [7.6 3.  6.6 2.1 0. ]\n",
            " [4.9 2.5 4.5 1.7 2. ]\n",
            " [7.3 2.9 6.3 1.8 0. ]\n",
            " [6.7 2.5 5.8 1.8 0. ]\n",
            " [7.2 3.6 6.1 2.5 0. ]\n",
            " [6.5 3.2 5.1 2.  0. ]\n",
            " [6.4 2.7 5.3 1.9 0. ]\n",
            " [6.8 3.  5.5 2.1 0. ]\n",
            " [5.7 2.5 5.  2.  2. ]\n",
            " [5.8 2.8 5.1 2.4 2. ]\n",
            " [6.4 3.2 5.3 2.3 0. ]\n",
            " [6.5 3.  5.5 1.8 0. ]\n",
            " [7.7 3.8 6.7 2.2 0. ]\n",
            " [7.7 2.6 6.9 2.3 0. ]\n",
            " [6.  2.2 5.  1.5 2. ]\n",
            " [6.9 3.2 5.7 2.3 0. ]\n",
            " [5.6 2.8 4.9 2.  2. ]\n",
            " [7.7 2.8 6.7 2.  0. ]\n",
            " [6.3 2.7 4.9 1.8 2. ]\n",
            " [6.7 3.3 5.7 2.1 0. ]\n",
            " [7.2 3.2 6.  1.8 0. ]\n",
            " [6.2 2.8 4.8 1.8 2. ]\n",
            " [6.1 3.  4.9 1.8 2. ]\n",
            " [6.4 2.8 5.6 2.1 0. ]\n",
            " [7.2 3.  5.8 1.6 0. ]\n",
            " [7.4 2.8 6.1 1.9 0. ]\n",
            " [7.9 3.8 6.4 2.  0. ]\n",
            " [6.4 2.8 5.6 2.2 0. ]\n",
            " [6.3 2.8 5.1 1.5 2. ]\n",
            " [6.1 2.6 5.6 1.4 0. ]\n",
            " [7.7 3.  6.1 2.3 0. ]\n",
            " [6.3 3.4 5.6 2.4 0. ]\n",
            " [6.4 3.1 5.5 1.8 0. ]\n",
            " [6.  3.  4.8 1.8 2. ]\n",
            " [6.9 3.1 5.4 2.1 0. ]\n",
            " [6.7 3.1 5.6 2.4 0. ]\n",
            " [6.9 3.1 5.1 2.3 0. ]\n",
            " [5.8 2.7 5.1 1.9 2. ]\n",
            " [6.8 3.2 5.9 2.3 0. ]\n",
            " [6.7 3.3 5.7 2.5 0. ]\n",
            " [6.7 3.  5.2 2.3 0. ]\n",
            " [6.3 2.5 5.  1.9 2. ]\n",
            " [6.5 3.  5.2 2.  0. ]\n",
            " [6.2 3.4 5.4 2.3 0. ]\n",
            " [5.9 3.  5.1 1.8 2. ]]\n"
          ],
          "name": "stdout"
        }
      ]
    },
    {
      "cell_type": "markdown",
      "metadata": {
        "id": "DNsGsXobTkWg"
      },
      "source": [
        "###**Visualising the clusters - On the first two columns using scatter plot** "
      ]
    },
    {
      "cell_type": "code",
      "metadata": {
        "colab": {
          "base_uri": "https://localhost:8080/",
          "height": 285
        },
        "id": "vgSAe6Sz0qN3",
        "outputId": "9213dcc1-2c71-4286-e5fa-f48869b76788"
      },
      "source": [
        "plt.scatter(X[y_pred == 0, 0], X[y_pred == 0, 1],\n",
        "            s = 100, c = 'red', label = 'Irirs-setosa')\n",
        "plt.scatter(X[y_pred == 1, 0], X[y_pred == 1,1],\n",
        "            s = 100, c = 'blue', label = 'Irirs-versicolour')\n",
        "plt.scatter(X[y_pred == 2, 0], X[y_pred == 2, 1], \n",
        "            s = 100, c = 'green', label = 'Irirs-virginica')\n",
        "\n",
        "plt.scatter(kmeans.cluster_centers_[:,0], kmeans.cluster_centers_[:,1],\n",
        "s = 100, c = 'yellow', label = 'Centroids')\n",
        "plt.legend()"
      ],
      "execution_count": null,
      "outputs": [
        {
          "output_type": "execute_result",
          "data": {
            "text/plain": [
              "<matplotlib.legend.Legend at 0x7f60e0becc50>"
            ]
          },
          "metadata": {
            "tags": []
          },
          "execution_count": 9
        },
        {
          "output_type": "display_data",
          "data": {
            "image/png": "[encoded data removed]",
            "text/plain": [
              "<Figure size 432x288 with 1 Axes>"
            ]
          },
          "metadata": {
            "tags": [],
            "needs_background": "light"
          }
        }
      ]
    }
  ]
}